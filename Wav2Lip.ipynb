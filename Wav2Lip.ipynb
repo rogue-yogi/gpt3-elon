{
  "nbformat": 4,
  "nbformat_minor": 0,
  "metadata": {
    "colab": {
      "provenance": [],
      "include_colab_link": true
    },
    "kernelspec": {
      "name": "python3",
      "display_name": "Python 3"
    },
    "accelerator": "GPU"
  },
  "cells": [
    {
      "cell_type": "markdown",
      "metadata": {
        "id": "view-in-github",
        "colab_type": "text"
      },
      "source": [
        "<a href=\"https://colab.research.google.com/github/rogue-yogi/gpt3-elon/blob/main/Wav2Lip.ipynb\" target=\"_parent\"><img src=\"https://colab.research.google.com/assets/colab-badge.svg\" alt=\"Open In Colab\"/></a>"
      ]
    },
    {
      "cell_type": "markdown",
      "metadata": {
        "id": "vSQFs_G8caeE"
      },
      "source": [
        "# Collab preliminaries"
      ]
    },
    {
      "cell_type": "code",
      "metadata": {
        "id": "XIVB0Xn1g6ih",
        "colab": {
          "base_uri": "https://localhost:8080/"
        },
        "outputId": "c3b2e676-503a-43bf-a4b3-649d56a2ac17"
      },
      "source": [
        "!nvcc --version"
      ],
      "execution_count": null,
      "outputs": [
        {
          "output_type": "stream",
          "name": "stdout",
          "text": [
            "nvcc: NVIDIA (R) Cuda compiler driver\n",
            "Copyright (c) 2005-2022 NVIDIA Corporation\n",
            "Built on Wed_Sep_21_10:33:58_PDT_2022\n",
            "Cuda compilation tools, release 11.8, V11.8.89\n",
            "Build cuda_11.8.r11.8/compiler.31833905_0\n"
          ]
        }
      ]
    },
    {
      "cell_type": "code",
      "metadata": {
        "id": "qciH4PsUazL_",
        "colab": {
          "base_uri": "https://localhost:8080/"
        },
        "outputId": "f3818096-110b-41fb-afd9-04289b776cde"
      },
      "source": [
        "from google.colab import drive\n",
        "drive.mount('/content/gdrive')"
      ],
      "execution_count": null,
      "outputs": [
        {
          "output_type": "stream",
          "name": "stdout",
          "text": [
            "Drive already mounted at /content/gdrive; to attempt to forcibly remount, call drive.mount(\"/content/gdrive\", force_remount=True).\n"
          ]
        }
      ]
    },
    {
      "cell_type": "markdown",
      "metadata": {
        "id": "yJ5taGmPcWV-"
      },
      "source": [
        "# Get the code and models"
      ]
    },
    {
      "cell_type": "code",
      "metadata": {
        "id": "P3LihClHbUd3",
        "colab": {
          "base_uri": "https://localhost:8080/"
        },
        "outputId": "2d4baf80-3999-44d6-ee0a-f07cf68220bc"
      },
      "source": [
        "!git clone https://github.com/Rudrabha/Wav2Lip.git"
      ],
      "execution_count": null,
      "outputs": [
        {
          "output_type": "stream",
          "name": "stdout",
          "text": [
            "fatal: destination path 'Wav2Lip' already exists and is not an empty directory.\n"
          ]
        }
      ]
    },
    {
      "cell_type": "code",
      "metadata": {
        "id": "y-19nzx8SamJ",
        "colab": {
          "base_uri": "https://localhost:8080/"
        },
        "outputId": "6f0c4cfd-072a-4154-fbb1-ff97d2e2cd7b"
      },
      "source": [
        "!ls /content/gdrive/MyDrive/Wav2Lip"
      ],
      "execution_count": null,
      "outputs": [
        {
          "output_type": "stream",
          "name": "stdout",
          "text": [
            "elonaudio.mp3  kendall_roy  SamAltmanAudio.wav\twav2lip_gan.pth\n",
            "elonvideo.mp4  sam_altman   samvideo.mp4\n"
          ]
        }
      ]
    },
    {
      "cell_type": "code",
      "metadata": {
        "id": "YjzMPy_Sb0AI"
      },
      "source": [
        "!cp -ri \"/content/gdrive/MyDrive/Wav2Lip/wav2lip_gan.pth\" /content/Wav2Lip/checkpoints/"
      ],
      "execution_count": null,
      "outputs": []
    },
    {
      "cell_type": "markdown",
      "metadata": {
        "id": "aWTaOS3ncFt6"
      },
      "source": [
        "# Get the pre-requisites"
      ]
    },
    {
      "cell_type": "code",
      "metadata": {
        "id": "Ooh28vw-Uvd3",
        "colab": {
          "base_uri": "https://localhost:8080/"
        },
        "outputId": "0a762afd-0aa6-4552-e41c-19d5805cc6b6"
      },
      "source": [
        "!pip uninstall tensorflow tensorflow-gpu"
      ],
      "execution_count": null,
      "outputs": [
        {
          "output_type": "stream",
          "name": "stdout",
          "text": [
            "Found existing installation: tensorflow 2.12.0\n",
            "Uninstalling tensorflow-2.12.0:\n",
            "  Would remove:\n",
            "    /usr/local/bin/estimator_ckpt_converter\n",
            "    /usr/local/bin/import_pb_to_tensorboard\n",
            "    /usr/local/bin/saved_model_cli\n",
            "    /usr/local/bin/tensorboard\n",
            "    /usr/local/bin/tf_upgrade_v2\n",
            "    /usr/local/bin/tflite_convert\n",
            "    /usr/local/bin/toco\n",
            "    /usr/local/bin/toco_from_protos\n",
            "    /usr/local/lib/python3.10/dist-packages/tensorflow-2.12.0.dist-info/*\n",
            "    /usr/local/lib/python3.10/dist-packages/tensorflow/*\n",
            "Proceed (Y/n)? Y\n",
            "  Successfully uninstalled tensorflow-2.12.0\n",
            "\u001b[33mWARNING: Skipping tensorflow-gpu as it is not installed.\u001b[0m\u001b[33m\n",
            "\u001b[0m"
          ]
        }
      ]
    },
    {
      "cell_type": "code",
      "metadata": {
        "id": "49dCYlLdcK2D",
        "colab": {
          "base_uri": "https://localhost:8080/"
        },
        "outputId": "a82b8df4-297a-43c1-94a1-fc8163e01f6a"
      },
      "source": [
        "!cd Wav2Lip && pip install -r requirements.txt"
      ],
      "execution_count": null,
      "outputs": [
        {
          "output_type": "stream",
          "name": "stdout",
          "text": [
            "Looking in indexes: https://pypi.org/simple, https://us-python.pkg.dev/colab-wheels/public/simple/\n",
            "Collecting librosa==0.7.0\n",
            "  Downloading librosa-0.7.0.tar.gz (1.6 MB)\n",
            "\u001b[2K     \u001b[90m━━━━━━━━━━━━━━━━━━━━━━━━━━━━━━━━━━━━━━━━\u001b[0m \u001b[32m1.6/1.6 MB\u001b[0m \u001b[31m19.6 MB/s\u001b[0m eta \u001b[36m0:00:00\u001b[0m\n",
            "\u001b[?25h  Preparing metadata (setup.py) ... \u001b[?25l\u001b[?25hdone\n",
            "Collecting numpy==1.17.1\n",
            "  Downloading numpy-1.17.1.zip (6.5 MB)\n",
            "\u001b[2K     \u001b[90m━━━━━━━━━━━━━━━━━━━━━━━━━━━━━━━━━━━━━━━━\u001b[0m \u001b[32m6.5/6.5 MB\u001b[0m \u001b[31m95.7 MB/s\u001b[0m eta \u001b[36m0:00:00\u001b[0m\n",
            "\u001b[?25h  Preparing metadata (setup.py) ... \u001b[?25l\u001b[?25hdone\n",
            "Requirement already satisfied: opencv-contrib-python>=4.2.0.34 in /usr/local/lib/python3.10/dist-packages (from -r requirements.txt (line 3)) (4.7.0.72)\n",
            "\u001b[31mERROR: Could not find a version that satisfies the requirement opencv-python==4.1.0.25 (from versions: 3.4.0.14, 3.4.10.37, 3.4.11.39, 3.4.11.41, 3.4.11.43, 3.4.11.45, 3.4.13.47, 3.4.15.55, 3.4.16.57, 3.4.16.59, 3.4.17.61, 3.4.17.63, 3.4.18.65, 4.3.0.38, 4.4.0.40, 4.4.0.42, 4.4.0.44, 4.4.0.46, 4.5.1.48, 4.5.3.56, 4.5.4.58, 4.5.4.60, 4.5.5.62, 4.5.5.64, 4.6.0.66, 4.7.0.68, 4.7.0.72)\u001b[0m\u001b[31m\n",
            "\u001b[0m\u001b[31mERROR: No matching distribution found for opencv-python==4.1.0.25\u001b[0m\u001b[31m\n",
            "\u001b[0m"
          ]
        }
      ]
    },
    {
      "cell_type": "code",
      "metadata": {
        "id": "ey_bN4M6X_95",
        "colab": {
          "base_uri": "https://localhost:8080/"
        },
        "outputId": "66420242-1f77-490b-e7d5-9a752e644ac9"
      },
      "source": [
        "!wget \"https://www.adrianbulat.com/downloads/python-fan/s3fd-619a316812.pth\" -O \"Wav2Lip/face_detection/detection/sfd/s3fd.pth\""
      ],
      "execution_count": null,
      "outputs": [
        {
          "output_type": "stream",
          "name": "stdout",
          "text": [
            "--2023-05-03 15:05:31--  https://www.adrianbulat.com/downloads/python-fan/s3fd-619a316812.pth\n",
            "Resolving www.adrianbulat.com (www.adrianbulat.com)... 45.136.29.207\n",
            "Connecting to www.adrianbulat.com (www.adrianbulat.com)|45.136.29.207|:443... connected.\n",
            "HTTP request sent, awaiting response... 200 OK\n",
            "Length: 89843225 (86M) [application/octet-stream]\n",
            "Saving to: ‘Wav2Lip/face_detection/detection/sfd/s3fd.pth’\n",
            "\n",
            "Wav2Lip/face_detect 100%[===================>]  85.68M  22.4MB/s    in 3.8s    \n",
            "\n",
            "2023-05-03 15:05:35 (22.4 MB/s) - ‘Wav2Lip/face_detection/detection/sfd/s3fd.pth’ saved [89843225/89843225]\n",
            "\n"
          ]
        }
      ]
    },
    {
      "cell_type": "code",
      "source": [
        "pip install librosa==0.8.0"
      ],
      "metadata": {
        "id": "xxjZj3VaJcFE",
        "outputId": "7869878a-ce87-468f-fca4-71069f7b0602",
        "colab": {
          "base_uri": "https://localhost:8080/"
        }
      },
      "execution_count": null,
      "outputs": [
        {
          "output_type": "stream",
          "name": "stdout",
          "text": [
            "Looking in indexes: https://pypi.org/simple, https://us-python.pkg.dev/colab-wheels/public/simple/\n",
            "Collecting librosa==0.8.0\n",
            "  Downloading librosa-0.8.0.tar.gz (183 kB)\n",
            "\u001b[2K     \u001b[90m━━━━━━━━━━━━━━━━━━━━━━━━━━━━━━━━━━━━━━━\u001b[0m \u001b[32m183.9/183.9 kB\u001b[0m \u001b[31m4.8 MB/s\u001b[0m eta \u001b[36m0:00:00\u001b[0m\n",
            "\u001b[?25h  Preparing metadata (setup.py) ... \u001b[?25l\u001b[?25hdone\n",
            "Requirement already satisfied: audioread>=2.0.0 in /usr/local/lib/python3.10/dist-packages (from librosa==0.8.0) (3.0.0)\n",
            "Requirement already satisfied: numpy>=1.15.0 in /usr/local/lib/python3.10/dist-packages (from librosa==0.8.0) (1.22.4)\n",
            "Requirement already satisfied: scipy>=1.0.0 in /usr/local/lib/python3.10/dist-packages (from librosa==0.8.0) (1.10.1)\n",
            "Requirement already satisfied: scikit-learn!=0.19.0,>=0.14.0 in /usr/local/lib/python3.10/dist-packages (from librosa==0.8.0) (1.2.2)\n",
            "Requirement already satisfied: joblib>=0.14 in /usr/local/lib/python3.10/dist-packages (from librosa==0.8.0) (1.2.0)\n",
            "Requirement already satisfied: decorator>=3.0.0 in /usr/local/lib/python3.10/dist-packages (from librosa==0.8.0) (4.4.2)\n",
            "Collecting resampy>=0.2.2\n",
            "  Downloading resampy-0.4.2-py3-none-any.whl (3.1 MB)\n",
            "\u001b[2K     \u001b[90m━━━━━━━━━━━━━━━━━━━━━━━━━━━━━━━━━━━━━━━━\u001b[0m \u001b[32m3.1/3.1 MB\u001b[0m \u001b[31m48.2 MB/s\u001b[0m eta \u001b[36m0:00:00\u001b[0m\n",
            "\u001b[?25hRequirement already satisfied: numba>=0.43.0 in /usr/local/lib/python3.10/dist-packages (from librosa==0.8.0) (0.56.4)\n",
            "Requirement already satisfied: soundfile>=0.9.0 in /usr/local/lib/python3.10/dist-packages (from librosa==0.8.0) (0.12.1)\n",
            "Requirement already satisfied: pooch>=1.0 in /usr/local/lib/python3.10/dist-packages (from librosa==0.8.0) (1.6.0)\n",
            "Requirement already satisfied: setuptools in /usr/local/lib/python3.10/dist-packages (from numba>=0.43.0->librosa==0.8.0) (67.7.2)\n",
            "Requirement already satisfied: llvmlite<0.40,>=0.39.0dev0 in /usr/local/lib/python3.10/dist-packages (from numba>=0.43.0->librosa==0.8.0) (0.39.1)\n",
            "Requirement already satisfied: appdirs>=1.3.0 in /usr/local/lib/python3.10/dist-packages (from pooch>=1.0->librosa==0.8.0) (1.4.4)\n",
            "Requirement already satisfied: requests>=2.19.0 in /usr/local/lib/python3.10/dist-packages (from pooch>=1.0->librosa==0.8.0) (2.27.1)\n",
            "Requirement already satisfied: packaging>=20.0 in /usr/local/lib/python3.10/dist-packages (from pooch>=1.0->librosa==0.8.0) (23.1)\n",
            "Requirement already satisfied: threadpoolctl>=2.0.0 in /usr/local/lib/python3.10/dist-packages (from scikit-learn!=0.19.0,>=0.14.0->librosa==0.8.0) (3.1.0)\n",
            "Requirement already satisfied: cffi>=1.0 in /usr/local/lib/python3.10/dist-packages (from soundfile>=0.9.0->librosa==0.8.0) (1.15.1)\n",
            "Requirement already satisfied: pycparser in /usr/local/lib/python3.10/dist-packages (from cffi>=1.0->soundfile>=0.9.0->librosa==0.8.0) (2.21)\n",
            "Requirement already satisfied: urllib3<1.27,>=1.21.1 in /usr/local/lib/python3.10/dist-packages (from requests>=2.19.0->pooch>=1.0->librosa==0.8.0) (1.26.15)\n",
            "Requirement already satisfied: charset-normalizer~=2.0.0 in /usr/local/lib/python3.10/dist-packages (from requests>=2.19.0->pooch>=1.0->librosa==0.8.0) (2.0.12)\n",
            "Requirement already satisfied: certifi>=2017.4.17 in /usr/local/lib/python3.10/dist-packages (from requests>=2.19.0->pooch>=1.0->librosa==0.8.0) (2022.12.7)\n",
            "Requirement already satisfied: idna<4,>=2.5 in /usr/local/lib/python3.10/dist-packages (from requests>=2.19.0->pooch>=1.0->librosa==0.8.0) (3.4)\n",
            "Building wheels for collected packages: librosa\n",
            "  Building wheel for librosa (setup.py) ... \u001b[?25l\u001b[?25hdone\n",
            "  Created wheel for librosa: filename=librosa-0.8.0-py3-none-any.whl size=201393 sha256=7ceb1f62983b51e2ba2739dbf0615e9794e348ec8ed46f56d5271bf003b45be5\n",
            "  Stored in directory: /root/.cache/pip/wheels/bf/b7/85/2f8044306ccec014930aea23ad4852fca9e2584e21c6972bc6\n",
            "Successfully built librosa\n",
            "Installing collected packages: resampy, librosa\n",
            "  Attempting uninstall: librosa\n",
            "    Found existing installation: librosa 0.10.0.post2\n",
            "    Uninstalling librosa-0.10.0.post2:\n",
            "      Successfully uninstalled librosa-0.10.0.post2\n",
            "Successfully installed librosa-0.8.0 resampy-0.4.2\n"
          ]
        }
      ]
    },
    {
      "cell_type": "markdown",
      "metadata": {
        "id": "qdIQfY2Kswcb"
      },
      "source": [
        "# Now lets try!"
      ]
    },
    {
      "cell_type": "code",
      "metadata": {
        "id": "KoVGMtjRZfeR",
        "colab": {
          "base_uri": "https://localhost:8080/"
        },
        "outputId": "7ea89f0c-8af9-4c16-b2f5-71ca2e6e1c23"
      },
      "source": [
        "!cp \"/content/gdrive/My Drive/Wav2Lip/sam_altman/sam_vid_14_2.mp4\" \"/content/gdrive/My Drive/Wav2Lip/sam_altman/sam_aud_14_2.wav\" sample_data/\n",
        "!ls sample_data/"
      ],
      "execution_count": null,
      "outputs": [
        {
          "output_type": "stream",
          "name": "stdout",
          "text": [
            "anscombe.json\t\t      sam_aud_12.wav\tsam_vid_11.mp4\n",
            "california_housing_test.csv   sam_aud_13.wav\tsam_vid_12.mp4\n",
            "california_housing_train.csv  sam_aud_14_1.wav\tsam_vid_13.mp4\n",
            "mnist_test.csv\t\t      sam_aud_14_2.wav\tsam_vid_14_1.mp4\n",
            "mnist_train_small.csv\t      sam_aud_14.wav\tsam_vid_14_2.mp4\n",
            "README.md\t\t      sam_aud_15.wav\tsam_vid_14.mp4\n",
            "sam_aud_10.wav\t\t      sam_aud_4.wav\tsam_vid_15.mp4\n",
            "sam_aud_11.wav\t\t      sam_vid_10.mp4\tsam_vid_4.mp4\n"
          ]
        }
      ]
    },
    {
      "cell_type": "code",
      "metadata": {
        "id": "jR5utmDMcSZY",
        "colab": {
          "base_uri": "https://localhost:8080/"
        },
        "outputId": "d43da2c6-5c38-4953-892b-a78d27f6c835"
      },
      "source": [
        "!cd Wav2Lip && python inference.py --checkpoint_path checkpoints/wav2lip_gan.pth --face \"../sample_data/sam_vid_14_2.mp4\" --audio \"../sample_data/sam_aud_14_2.wav\" --pads 0 20 0 0"
      ],
      "execution_count": null,
      "outputs": [
        {
          "output_type": "stream",
          "name": "stdout",
          "text": [
            "Using cuda for inference.\n",
            "Reading video frames...\n",
            "Number of frames available for inference: 1374\n",
            "(80, 4585)\n",
            "Length of mel chunks: 1371\n",
            "  0% 0/11 [00:00<?, ?it/s]\n",
            "  0% 0/86 [00:00<?, ?it/s]\u001b[A\n",
            "  1% 1/86 [03:17<4:39:43, 197.46s/it]\u001b[A\n",
            "  2% 2/86 [03:20<1:56:30, 83.22s/it] \u001b[A\n",
            "  3% 3/86 [03:23<1:04:23, 46.55s/it]\u001b[A\n",
            "  5% 4/86 [03:26<40:13, 29.43s/it]  \u001b[A\n",
            "  6% 5/86 [03:29<26:49, 19.87s/it]\u001b[A\n",
            "  7% 6/86 [03:32<18:48, 14.10s/it]\u001b[A\n",
            "  8% 7/86 [03:35<13:44, 10.44s/it]\u001b[A\n",
            "  9% 8/86 [03:38<10:29,  8.07s/it]\u001b[A\n",
            " 10% 9/86 [03:41<08:21,  6.51s/it]\u001b[A\n",
            " 12% 10/86 [03:44<06:49,  5.39s/it]\u001b[A\n",
            " 13% 11/86 [03:47<05:47,  4.63s/it]\u001b[A\n",
            " 14% 12/86 [03:50<05:05,  4.13s/it]\u001b[A\n",
            " 15% 13/86 [03:53<04:39,  3.82s/it]\u001b[A\n",
            " 16% 14/86 [03:56<04:15,  3.54s/it]\u001b[A\n",
            " 17% 15/86 [03:59<03:58,  3.36s/it]\u001b[A\n",
            " 19% 16/86 [04:02<03:46,  3.23s/it]\u001b[A\n",
            " 20% 17/86 [04:05<03:41,  3.21s/it]\u001b[A\n",
            " 21% 18/86 [04:08<03:32,  3.13s/it]\u001b[A\n",
            " 22% 19/86 [04:11<03:25,  3.07s/it]\u001b[A\n",
            " 23% 20/86 [04:14<03:19,  3.03s/it]\u001b[A\n",
            " 24% 21/86 [04:17<03:15,  3.01s/it]\u001b[A\n",
            " 26% 22/86 [04:20<03:14,  3.04s/it]\u001b[A\n",
            " 27% 23/86 [04:23<03:08,  3.00s/it]\u001b[A\n",
            " 28% 24/86 [04:26<03:04,  2.98s/it]\u001b[A\n",
            " 29% 25/86 [04:29<03:02,  2.99s/it]\u001b[A\n",
            " 30% 26/86 [04:32<03:02,  3.04s/it]\u001b[A\n",
            " 31% 27/86 [04:35<02:57,  3.01s/it]\u001b[A\n",
            " 33% 28/86 [04:38<02:52,  2.98s/it]\u001b[A\n",
            " 34% 29/86 [04:41<02:48,  2.95s/it]\u001b[A\n",
            " 35% 30/86 [04:44<02:47,  3.00s/it]\u001b[A\n",
            " 36% 31/86 [04:47<02:42,  2.96s/it]\u001b[A\n",
            " 37% 32/86 [04:49<02:38,  2.94s/it]\u001b[A\n",
            " 38% 33/86 [04:52<02:35,  2.93s/it]\u001b[A\n",
            " 40% 34/86 [04:55<02:33,  2.95s/it]\u001b[A\n",
            " 41% 35/86 [04:58<02:32,  3.00s/it]\u001b[A\n",
            " 42% 36/86 [05:01<02:28,  2.97s/it]\u001b[A\n",
            " 43% 37/86 [05:04<02:24,  2.95s/it]\u001b[A\n",
            " 44% 38/86 [05:07<02:22,  2.96s/it]\u001b[A\n",
            " 45% 39/86 [05:10<02:20,  3.00s/it]\u001b[A\n",
            " 47% 40/86 [05:13<02:16,  2.97s/it]\u001b[A\n",
            " 48% 41/86 [05:16<02:12,  2.94s/it]\u001b[A\n",
            " 49% 42/86 [05:19<02:08,  2.93s/it]\u001b[A\n",
            " 50% 43/86 [05:22<02:08,  2.99s/it]\u001b[A\n",
            " 51% 44/86 [05:25<02:04,  2.96s/it]\u001b[A\n",
            " 52% 45/86 [05:28<02:00,  2.95s/it]\u001b[A\n",
            " 53% 46/86 [05:31<01:57,  2.94s/it]\u001b[A\n",
            " 55% 47/86 [05:34<01:55,  2.96s/it]\u001b[A\n",
            " 56% 48/86 [05:37<01:54,  3.01s/it]\u001b[A\n",
            " 57% 49/86 [05:40<01:50,  2.98s/it]\u001b[A\n",
            " 58% 50/86 [05:43<01:46,  2.96s/it]\u001b[A\n",
            " 59% 51/86 [05:46<01:43,  2.97s/it]\u001b[A\n",
            " 60% 52/86 [05:49<01:42,  3.01s/it]\u001b[A\n",
            " 62% 53/86 [05:52<01:38,  2.99s/it]\u001b[A\n",
            " 63% 54/86 [05:55<01:35,  2.97s/it]\u001b[A\n",
            " 64% 55/86 [05:58<01:31,  2.95s/it]\u001b[A\n",
            " 65% 56/86 [06:01<01:30,  3.00s/it]\u001b[A\n",
            " 66% 57/86 [06:04<01:26,  2.97s/it]\u001b[A\n",
            " 67% 58/86 [06:07<01:22,  2.95s/it]\u001b[A\n",
            " 69% 59/86 [06:10<01:19,  2.94s/it]\u001b[A\n",
            " 70% 60/86 [06:12<01:16,  2.95s/it]\u001b[A\n",
            " 71% 61/86 [06:16<01:14,  2.98s/it]\u001b[A\n",
            " 72% 62/86 [06:18<01:10,  2.95s/it]\u001b[A\n",
            " 73% 63/86 [06:21<01:07,  2.93s/it]\u001b[A\n",
            " 74% 64/86 [06:24<01:04,  2.94s/it]\u001b[A\n",
            " 76% 65/86 [06:27<01:02,  2.99s/it]\u001b[A\n",
            " 77% 66/86 [06:30<00:59,  2.96s/it]\u001b[A\n",
            " 78% 67/86 [06:33<00:55,  2.94s/it]\u001b[A\n",
            " 79% 68/86 [06:36<00:52,  2.92s/it]\u001b[A\n",
            " 80% 69/86 [06:39<00:50,  2.97s/it]\u001b[A\n",
            " 81% 70/86 [06:42<00:47,  2.96s/it]\u001b[A\n",
            " 83% 71/86 [06:45<00:44,  2.94s/it]\u001b[A\n",
            " 84% 72/86 [06:48<00:41,  2.93s/it]\u001b[A\n",
            " 85% 73/86 [06:51<00:38,  2.95s/it]\u001b[A\n",
            " 86% 74/86 [06:54<00:36,  3.00s/it]\u001b[A\n",
            " 87% 75/86 [06:57<00:32,  2.98s/it]\u001b[A\n",
            " 88% 76/86 [07:00<00:29,  2.97s/it]\u001b[A\n",
            " 90% 77/86 [07:03<00:26,  2.98s/it]\u001b[A\n",
            " 91% 78/86 [07:06<00:24,  3.02s/it]\u001b[A\n",
            " 92% 79/86 [07:09<00:20,  3.00s/it]\u001b[A\n",
            " 93% 80/86 [07:12<00:17,  2.98s/it]\u001b[A\n",
            " 94% 81/86 [07:15<00:14,  2.96s/it]\u001b[A\n",
            " 95% 82/86 [07:18<00:11,  2.99s/it]\u001b[A\n",
            " 97% 83/86 [07:21<00:09,  3.00s/it]\u001b[A\n",
            " 98% 84/86 [07:24<00:05,  2.97s/it]\u001b[A\n",
            " 99% 85/86 [07:27<00:02,  2.95s/it]\u001b[A\n",
            "100% 86/86 [07:54<00:00,  5.52s/it]\n",
            "Load checkpoint from: checkpoints/wav2lip_gan.pth\n",
            "Model loaded\n",
            "100% 11/11 [08:26<00:00, 46.02s/it]\n",
            "ffmpeg version 4.2.7-0ubuntu0.1 Copyright (c) 2000-2022 the FFmpeg developers\n",
            "  built with gcc 9 (Ubuntu 9.4.0-1ubuntu1~20.04.1)\n",
            "  configuration: --prefix=/usr --extra-version=0ubuntu0.1 --toolchain=hardened --libdir=/usr/lib/x86_64-linux-gnu --incdir=/usr/include/x86_64-linux-gnu --arch=amd64 --enable-gpl --disable-stripping --enable-avresample --disable-filter=resample --enable-avisynth --enable-gnutls --enable-ladspa --enable-libaom --enable-libass --enable-libbluray --enable-libbs2b --enable-libcaca --enable-libcdio --enable-libcodec2 --enable-libflite --enable-libfontconfig --enable-libfreetype --enable-libfribidi --enable-libgme --enable-libgsm --enable-libjack --enable-libmp3lame --enable-libmysofa --enable-libopenjpeg --enable-libopenmpt --enable-libopus --enable-libpulse --enable-librsvg --enable-librubberband --enable-libshine --enable-libsnappy --enable-libsoxr --enable-libspeex --enable-libssh --enable-libtheora --enable-libtwolame --enable-libvidstab --enable-libvorbis --enable-libvpx --enable-libwavpack --enable-libwebp --enable-libx265 --enable-libxml2 --enable-libxvid --enable-libzmq --enable-libzvbi --enable-lv2 --enable-omx --enable-openal --enable-opencl --enable-opengl --enable-sdl2 --enable-libdc1394 --enable-libdrm --enable-libiec61883 --enable-nvenc --enable-chromaprint --enable-frei0r --enable-libx264 --enable-shared\n",
            "  libavutil      56. 31.100 / 56. 31.100\n",
            "  libavcodec     58. 54.100 / 58. 54.100\n",
            "  libavformat    58. 29.100 / 58. 29.100\n",
            "  libavdevice    58.  8.100 / 58.  8.100\n",
            "  libavfilter     7. 57.100 /  7. 57.100\n",
            "  libavresample   4.  0.  0 /  4.  0.  0\n",
            "  libswscale      5.  5.100 /  5.  5.100\n",
            "  libswresample   3.  5.100 /  3.  5.100\n",
            "  libpostproc    55.  5.100 / 55.  5.100\n",
            "Input #0, wav, from '../sample_data/sam_aud_14_2.wav':\n",
            "  Duration: 00:00:57.31, bitrate: 2304 kb/s\n",
            "    Stream #0:0: Audio: pcm_s24le ([1][0][0][0] / 0x0001), 48000 Hz, stereo, s32 (24 bit), 2304 kb/s\n",
            "Input #1, avi, from 'temp/result.avi':\n",
            "  Metadata:\n",
            "    encoder         : Lavf59.27.100\n",
            "  Duration: 00:00:57.18, start: 0.000000, bitrate: 1572 kb/s\n",
            "    Stream #1:0: Video: mpeg4 (Simple Profile) (DIVX / 0x58564944), yuv420p, 1280x720 [SAR 1:1 DAR 16:9], 1568 kb/s, 23.98 fps, 23.98 tbr, 23.98 tbn, 2997 tbc\n",
            "Stream mapping:\n",
            "  Stream #1:0 -> #0:0 (mpeg4 (native) -> h264 (libx264))\n",
            "  Stream #0:0 -> #0:1 (pcm_s24le (native) -> aac (native))\n",
            "Press [q] to stop, [?] for help\n",
            "\u001b[1;36m[libx264 @ 0x55b86c8a5f00] \u001b[0m\u001b[0;33m-qscale is ignored, -crf is recommended.\n",
            "\u001b[0m\u001b[1;36m[libx264 @ 0x55b86c8a5f00] \u001b[0musing SAR=1/1\n",
            "\u001b[1;36m[libx264 @ 0x55b86c8a5f00] \u001b[0musing cpu capabilities: MMX2 SSE2Fast SSSE3 SSE4.2 AVX FMA3 BMI2 AVX2\n",
            "\u001b[1;36m[libx264 @ 0x55b86c8a5f00] \u001b[0mprofile High, level 3.1\n",
            "\u001b[1;36m[libx264 @ 0x55b86c8a5f00] \u001b[0m264 - core 155 r2917 0a84d98 - H.264/MPEG-4 AVC codec - Copyleft 2003-2018 - http://www.videolan.org/x264.html - options: cabac=1 ref=3 deblock=1:0:0 analyse=0x3:0x113 me=hex subme=7 psy=1 psy_rd=1.00:0.00 mixed_ref=1 me_range=16 chroma_me=1 trellis=1 8x8dct=1 cqm=0 deadzone=21,11 fast_pskip=1 chroma_qp_offset=-2 threads=3 lookahead_threads=1 sliced_threads=0 nr=0 decimate=1 interlaced=0 bluray_compat=0 constrained_intra=0 bframes=3 b_pyramid=2 b_adapt=1 b_bias=0 direct=1 weightb=1 open_gop=0 weightp=2 keyint=250 keyint_min=23 scenecut=40 intra_refresh=0 rc_lookahead=40 rc=crf mbtree=1 crf=23.0 qcomp=0.60 qpmin=0 qpmax=69 qpstep=4 ip_ratio=1.40 aq=1:1.00\n",
            "Output #0, mp4, to 'results/result_voice.mp4':\n",
            "  Metadata:\n",
            "    encoder         : Lavf58.29.100\n",
            "    Stream #0:0: Video: h264 (libx264) (avc1 / 0x31637661), yuv420p(progressive), 1280x720 [SAR 1:1 DAR 16:9], q=-1--1, 23.98 fps, 24k tbn, 23.98 tbc\n",
            "    Metadata:\n",
            "      encoder         : Lavc58.54.100 libx264\n",
            "    Side data:\n",
            "      cpb: bitrate max/min/avg: 0/0/0 buffer size: 0 vbv_delay: -1\n",
            "    Stream #0:1: Audio: aac (LC) (mp4a / 0x6134706D), 48000 Hz, stereo, fltp (24 bit), 128 kb/s\n",
            "    Metadata:\n",
            "      encoder         : Lavc58.54.100 aac\n",
            "frame= 1371 fps= 28 q=-1.0 Lsize=    6743kB time=00:00:57.32 bitrate= 963.7kbits/s speed=1.17x    \n",
            "video:5793kB audio:913kB subtitle:0kB other streams:0kB global headers:0kB muxing overhead: 0.562920%\n",
            "\u001b[1;36m[libx264 @ 0x55b86c8a5f00] \u001b[0mframe I:6     Avg QP:16.05  size: 48527\n",
            "\u001b[1;36m[libx264 @ 0x55b86c8a5f00] \u001b[0mframe P:723   Avg QP:19.36  size:  6520\n",
            "\u001b[1;36m[libx264 @ 0x55b86c8a5f00] \u001b[0mframe B:642   Avg QP:24.86  size:  1442\n",
            "\u001b[1;36m[libx264 @ 0x55b86c8a5f00] \u001b[0mconsecutive B-frames: 28.8% 24.1%  6.6% 40.6%\n",
            "\u001b[1;36m[libx264 @ 0x55b86c8a5f00] \u001b[0mmb I  I16..4:  7.8% 82.6%  9.6%\n",
            "\u001b[1;36m[libx264 @ 0x55b86c8a5f00] \u001b[0mmb P  I16..4:  0.4%  4.4%  0.1%  P16..4: 18.6%  5.6%  4.1%  0.0%  0.0%    skip:66.8%\n",
            "\u001b[1;36m[libx264 @ 0x55b86c8a5f00] \u001b[0mmb B  I16..4:  0.1%  0.6%  0.0%  B16..8: 24.9%  0.8%  0.1%  direct: 0.2%  skip:73.2%  L0:50.9% L1:46.5% BI: 2.5%\n",
            "\u001b[1;36m[libx264 @ 0x55b86c8a5f00] \u001b[0m8x8 transform intra:87.8% inter:80.6%\n",
            "\u001b[1;36m[libx264 @ 0x55b86c8a5f00] \u001b[0mcoded y,uvDC,uvAC intra: 73.3% 55.2% 8.6% inter: 5.8% 5.4% 0.1%\n",
            "\u001b[1;36m[libx264 @ 0x55b86c8a5f00] \u001b[0mi16 v,h,dc,p: 41% 20% 21% 18%\n",
            "\u001b[1;36m[libx264 @ 0x55b86c8a5f00] \u001b[0mi8 v,h,dc,ddl,ddr,vr,hd,vl,hu: 48% 15% 30%  2%  1%  1%  1%  2%  2%\n",
            "\u001b[1;36m[libx264 @ 0x55b86c8a5f00] \u001b[0mi4 v,h,dc,ddl,ddr,vr,hd,vl,hu: 61% 13%  8%  3%  3%  4%  2%  3%  2%\n",
            "\u001b[1;36m[libx264 @ 0x55b86c8a5f00] \u001b[0mi8c dc,h,v,p: 41% 25% 30%  4%\n",
            "\u001b[1;36m[libx264 @ 0x55b86c8a5f00] \u001b[0mWeighted P-Frames: Y:0.0% UV:0.0%\n",
            "\u001b[1;36m[libx264 @ 0x55b86c8a5f00] \u001b[0mref P L0: 71.7% 12.3% 11.4%  4.6%\n",
            "\u001b[1;36m[libx264 @ 0x55b86c8a5f00] \u001b[0mref B L0: 80.8% 16.2%  3.1%\n",
            "\u001b[1;36m[libx264 @ 0x55b86c8a5f00] \u001b[0mref B L1: 95.7%  4.3%\n",
            "\u001b[1;36m[libx264 @ 0x55b86c8a5f00] \u001b[0mkb/s:829.78\n",
            "\u001b[1;36m[aac @ 0x55b86c8a4a80] \u001b[0mQavg: 2333.493\n"
          ]
        }
      ]
    },
    {
      "cell_type": "code",
      "metadata": {
        "id": "uNOAZvkszEOw"
      },
      "source": [
        "# use the \"files\" button on the left to download the result in the Wav2Lip/results/ folder."
      ],
      "execution_count": null,
      "outputs": []
    },
    {
      "cell_type": "markdown",
      "metadata": {
        "id": "d7zgfrQqbKom"
      },
      "source": [
        "## **Variations to try**\n"
      ]
    },
    {
      "cell_type": "markdown",
      "metadata": {
        "id": "0f9A9VDVbZAG"
      },
      "source": [
        "1.   Use more padding to include the chin region"
      ]
    },
    {
      "cell_type": "code",
      "metadata": {
        "id": "45XW4SZAzIz5",
        "colab": {
          "base_uri": "https://localhost:8080/"
        },
        "outputId": "1b4ad167-2df2-4a0f-8cb3-566aea774bda"
      },
      "source": [
        "!cd Wav2Lip && python inference.py --checkpoint_path checkpoints/wav2lip_gan.pth --face \"../sample_data/test.mp4\" --audio \"../sample_data/sdfnsdkgnjksdgv.wav\" --pads 0 20 0 0"
      ],
      "execution_count": null,
      "outputs": [
        {
          "output_type": "stream",
          "name": "stdout",
          "text": [
            "Using cuda for inference.\n",
            "Reading video frames...\n",
            "Number of frames available for inference: 84\n",
            "(80, 123)\n",
            "Length of mel chunks: 35\n",
            "  0% 0/1 [00:00<?, ?it/s]\n",
            "  0% 0/3 [00:00<?, ?it/s]\u001b[ATHCudaCheck FAIL file=/pytorch/aten/src/THC/THCGeneral.cpp line=383 error=11 : invalid argument\n",
            "  0% 0/3 [00:00<?, ?it/s]\n",
            "Recovering from OOM error; New batch size: 8\n",
            "\n",
            "  0% 0/5 [00:00<?, ?it/s]\u001b[A\n",
            " 20% 1/5 [00:00<00:02,  1.35it/s]\u001b[A\n",
            " 60% 3/5 [00:00<00:01,  1.83it/s]\u001b[A\n",
            "100% 5/5 [00:01<00:00,  3.17it/s]\n",
            "Load checkpoint from: checkpoints/wav2lip_gan.pth\n",
            "Model loaded\n",
            "100% 1/1 [00:06<00:00,  6.06s/it]\n",
            "ffmpeg version 3.4.11-0ubuntu0.1 Copyright (c) 2000-2022 the FFmpeg developers\n",
            "  built with gcc 7 (Ubuntu 7.5.0-3ubuntu1~18.04)\n",
            "  configuration: --prefix=/usr --extra-version=0ubuntu0.1 --toolchain=hardened --libdir=/usr/lib/x86_64-linux-gnu --incdir=/usr/include/x86_64-linux-gnu --enable-gpl --disable-stripping --enable-avresample --enable-avisynth --enable-gnutls --enable-ladspa --enable-libass --enable-libbluray --enable-libbs2b --enable-libcaca --enable-libcdio --enable-libflite --enable-libfontconfig --enable-libfreetype --enable-libfribidi --enable-libgme --enable-libgsm --enable-libmp3lame --enable-libmysofa --enable-libopenjpeg --enable-libopenmpt --enable-libopus --enable-libpulse --enable-librubberband --enable-librsvg --enable-libshine --enable-libsnappy --enable-libsoxr --enable-libspeex --enable-libssh --enable-libtheora --enable-libtwolame --enable-libvorbis --enable-libvpx --enable-libwavpack --enable-libwebp --enable-libx265 --enable-libxml2 --enable-libxvid --enable-libzmq --enable-libzvbi --enable-omx --enable-openal --enable-opengl --enable-sdl2 --enable-libdc1394 --enable-libdrm --enable-libiec61883 --enable-chromaprint --enable-frei0r --enable-libopencv --enable-libx264 --enable-shared\n",
            "  libavutil      55. 78.100 / 55. 78.100\n",
            "  libavcodec     57.107.100 / 57.107.100\n",
            "  libavformat    57. 83.100 / 57. 83.100\n",
            "  libavdevice    57. 10.100 / 57. 10.100\n",
            "  libavfilter     6.107.100 /  6.107.100\n",
            "  libavresample   3.  7.  0 /  3.  7.  0\n",
            "  libswscale      4.  8.100 /  4.  8.100\n",
            "  libswresample   2.  9.100 /  2.  9.100\n",
            "  libpostproc    54.  7.100 / 54.  7.100\n",
            "\u001b[0;33mGuessed Channel Layout for Input Stream #0.0 : mono\n",
            "\u001b[0mInput #0, wav, from '../sample_data/sdfnsdkgnjksdgv.wav':\n",
            "  Metadata:\n",
            "    encoder         : Lavf58.29.100\n",
            "  Duration: 00:00:01.54, bitrate: 256 kb/s\n",
            "    Stream #0:0: Audio: pcm_s16le ([1][0][0][0] / 0x0001), 16000 Hz, mono, s16, 256 kb/s\n",
            "Input #1, avi, from 'temp/result.avi':\n",
            "  Metadata:\n",
            "    encoder         : Lavf58.26.101\n",
            "  Duration: 00:00:01.40, start: 0.000000, bitrate: 387 kb/s\n",
            "    Stream #1:0: Video: mpeg4 (Simple Profile) (DIVX / 0x58564944), yuv420p, 160x160 [SAR 1:1 DAR 1:1], 360 kb/s, 25 fps, 25 tbr, 25 tbn, 25 tbc\n",
            "Stream mapping:\n",
            "  Stream #1:0 -> #0:0 (mpeg4 (native) -> h264 (libx264))\n",
            "  Stream #0:0 -> #0:1 (pcm_s16le (native) -> aac (native))\n",
            "Press [q] to stop, [?] for help\n",
            "\u001b[1;36m[libx264 @ 0x5609f4494d00] \u001b[0m\u001b[0;33m-qscale is ignored, -crf is recommended.\n",
            "\u001b[0m\u001b[1;36m[libx264 @ 0x5609f4494d00] \u001b[0musing SAR=1/1\n",
            "\u001b[1;36m[libx264 @ 0x5609f4494d00] \u001b[0musing cpu capabilities: MMX2 SSE2Fast SSSE3 SSE4.2 AVX FMA3 BMI2 AVX2\n",
            "\u001b[1;36m[libx264 @ 0x5609f4494d00] \u001b[0mprofile High, level 1.1\n",
            "\u001b[1;36m[libx264 @ 0x5609f4494d00] \u001b[0m264 - core 152 r2854 e9a5903 - H.264/MPEG-4 AVC codec - Copyleft 2003-2017 - http://www.videolan.org/x264.html - options: cabac=1 ref=3 deblock=1:0:0 analyse=0x3:0x113 me=hex subme=7 psy=1 psy_rd=1.00:0.00 mixed_ref=1 me_range=16 chroma_me=1 trellis=1 8x8dct=1 cqm=0 deadzone=21,11 fast_pskip=1 chroma_qp_offset=-2 threads=3 lookahead_threads=1 sliced_threads=0 nr=0 decimate=1 interlaced=0 bluray_compat=0 constrained_intra=0 bframes=3 b_pyramid=2 b_adapt=1 b_bias=0 direct=1 weightb=1 open_gop=0 weightp=2 keyint=250 keyint_min=25 scenecut=40 intra_refresh=0 rc_lookahead=40 rc=crf mbtree=1 crf=23.0 qcomp=0.60 qpmin=0 qpmax=69 qpstep=4 ip_ratio=1.40 aq=1:1.00\n",
            "Output #0, mp4, to 'results/result_voice.mp4':\n",
            "  Metadata:\n",
            "    encoder         : Lavf57.83.100\n",
            "    Stream #0:0: Video: h264 (libx264) (avc1 / 0x31637661), yuv420p(progressive), 160x160 [SAR 1:1 DAR 1:1], q=-1--1, 25 fps, 12800 tbn, 25 tbc\n",
            "    Metadata:\n",
            "      encoder         : Lavc57.107.100 libx264\n",
            "    Side data:\n",
            "      cpb: bitrate max/min/avg: 0/0/0 buffer size: 0 vbv_delay: -1\n",
            "    Stream #0:1: Audio: aac (LC) (mp4a / 0x6134706D), 16000 Hz, mono, fltp, 69 kb/s\n",
            "    Metadata:\n",
            "      encoder         : Lavc57.107.100 aac\n",
            "frame=   35 fps=0.0 q=-1.0 Lsize=      37kB time=00:00:01.53 bitrate= 197.0kbits/s speed=17.8x    \n",
            "video:22kB audio:13kB subtitle:0kB other streams:0kB global headers:0kB muxing overhead: 6.031390%\n",
            "\u001b[1;36m[libx264 @ 0x5609f4494d00] \u001b[0mframe I:1     Avg QP:24.39  size:  3148\n",
            "\u001b[1;36m[libx264 @ 0x5609f4494d00] \u001b[0mframe P:24    Avg QP:25.46  size:   710\n",
            "\u001b[1;36m[libx264 @ 0x5609f4494d00] \u001b[0mframe B:10    Avg QP:27.77  size:   177\n",
            "\u001b[1;36m[libx264 @ 0x5609f4494d00] \u001b[0mconsecutive B-frames: 57.1%  5.7% 25.7% 11.4%\n",
            "\u001b[1;36m[libx264 @ 0x5609f4494d00] \u001b[0mmb I  I16..4:  4.0% 68.0% 28.0%\n",
            "\u001b[1;36m[libx264 @ 0x5609f4494d00] \u001b[0mmb P  I16..4:  0.5%  1.5%  0.1%  P16..4: 44.1% 20.6% 12.7%  0.0%  0.0%    skip:20.6%\n",
            "\u001b[1;36m[libx264 @ 0x5609f4494d00] \u001b[0mmb B  I16..4:  0.2%  0.5%  0.0%  B16..8: 46.1%  7.5%  1.2%  direct: 1.1%  skip:43.4%  L0:36.8% L1:43.9% BI:19.2%\n",
            "\u001b[1;36m[libx264 @ 0x5609f4494d00] \u001b[0m8x8 transform intra:69.4% inter:62.5%\n",
            "\u001b[1;36m[libx264 @ 0x5609f4494d00] \u001b[0mcoded y,uvDC,uvAC intra: 74.7% 76.4% 31.8% inter: 24.3% 16.2% 0.6%\n",
            "\u001b[1;36m[libx264 @ 0x5609f4494d00] \u001b[0mi16 v,h,dc,p: 41% 24% 29%  6%\n",
            "\u001b[1;36m[libx264 @ 0x5609f4494d00] \u001b[0mi8 v,h,dc,ddl,ddr,vr,hd,vl,hu: 26% 12% 37%  2%  4%  6%  5%  4%  3%\n",
            "\u001b[1;36m[libx264 @ 0x5609f4494d00] \u001b[0mi4 v,h,dc,ddl,ddr,vr,hd,vl,hu: 36% 12% 14%  5%  6% 13%  3%  7%  2%\n",
            "\u001b[1;36m[libx264 @ 0x5609f4494d00] \u001b[0mi8c dc,h,v,p: 55% 16% 24%  6%\n",
            "\u001b[1;36m[libx264 @ 0x5609f4494d00] \u001b[0mWeighted P-Frames: Y:4.2% UV:4.2%\n",
            "\u001b[1;36m[libx264 @ 0x5609f4494d00] \u001b[0mref P L0: 64.0% 22.9%  9.5%  3.6%  0.1%\n",
            "\u001b[1;36m[libx264 @ 0x5609f4494d00] \u001b[0mref B L0: 93.0%  6.1%  1.0%\n",
            "\u001b[1;36m[libx264 @ 0x5609f4494d00] \u001b[0mref B L1: 99.4%  0.6%\n",
            "\u001b[1;36m[libx264 @ 0x5609f4494d00] \u001b[0mkb/s:125.51\n",
            "\u001b[1;36m[aac @ 0x5609f449a000] \u001b[0mQavg: 2369.354\n"
          ]
        }
      ]
    },
    {
      "cell_type": "markdown",
      "metadata": {
        "id": "uo-WnsxfbwTG"
      },
      "source": [
        "2.   Use resize_factor to reduce the video resolution, as there is a change you might get better results for lower resolution videos. Why? Because the model was trained on low resolution faces."
      ]
    },
    {
      "cell_type": "code",
      "metadata": {
        "id": "xw0xFtZ2bsx8"
      },
      "source": [
        "!cd Wav2Lip && python inference.py --checkpoint_path checkpoints/wav2lip_gan.pth --face \"../sample_data/input_vid.mp4\" --audio \"../sample_data/input_audio.wav\" --resize_factor 2"
      ],
      "execution_count": null,
      "outputs": []
    }
  ]
}